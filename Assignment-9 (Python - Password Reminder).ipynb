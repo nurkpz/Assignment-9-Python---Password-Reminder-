{
 "cells": [
  {
   "cell_type": "code",
   "execution_count": 2,
   "id": "d2154876",
   "metadata": {},
   "outputs": [
    {
     "name": "stdout",
     "output_type": "stream",
     "text": [
      "Please enter your name: Sofia\n",
      "Hello, Sofia! See you later.\n"
     ]
    }
   ],
   "source": [
    "name = \"Joseph\"\n",
    "password = \"W@12\"\n",
    "entered_name = input(\"Please enter your name: \")\n",
    "if entered_name == name :\n",
    "    print(\"Hello, {}! The password is : {}\".format(entered_name, password))\n",
    "else :\n",
    "    print(\"Hello, {}! See you later.\".format(entered_name))"
   ]
  },
  {
   "cell_type": "code",
   "execution_count": null,
   "id": "b1884ce0",
   "metadata": {},
   "outputs": [],
   "source": []
  },
  {
   "cell_type": "code",
   "execution_count": null,
   "id": "b2eeea87",
   "metadata": {},
   "outputs": [],
   "source": []
  }
 ],
 "metadata": {
  "kernelspec": {
   "display_name": "Python 3 (ipykernel)",
   "language": "python",
   "name": "python3"
  },
  "language_info": {
   "codemirror_mode": {
    "name": "ipython",
    "version": 3
   },
   "file_extension": ".py",
   "mimetype": "text/x-python",
   "name": "python",
   "nbconvert_exporter": "python",
   "pygments_lexer": "ipython3",
   "version": "3.9.12"
  }
 },
 "nbformat": 4,
 "nbformat_minor": 5
}
